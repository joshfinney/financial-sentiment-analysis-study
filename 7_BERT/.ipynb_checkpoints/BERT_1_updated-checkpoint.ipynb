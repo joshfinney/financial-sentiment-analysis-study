{
 "cells": [
  {
   "cell_type": "code",
   "execution_count": null,
   "metadata": {},
   "outputs": [],
   "source": [
    "# Load the dataset\n",
    "df = pd.read_feather(\"Data/Data1.feather\")\n",
    "print(df.head(10))\n",
    "\n",
    "# Initialize BERT tokenizer\n",
    "tokenizer_path = 'bert-base-uncased'\n",
    "if os.path.exists(tokenizer_path):\n",
    "    tokenizer = BertTokenizer.from_pretrained(tokenizer_path)\n",
    "else:\n",
    "    tokenizer = BertTokenizer.from_pretrained('bert-base-uncased')\n",
    "    tokenizer.save_pretrained(tokenizer_path)\n",
    "\n",
    "# Add additional stop words for financial context\n",
    "stop_words_appended = stopwords.words('english')\n",
    "stop_words_appended.extend(['rt', 'ep'])\n",
    "\n",
    "# Prepare datasets\n",
    "X = df[['text', 'base_url', 'company_names']].apply(lambda x: ' '.join(x), axis=1)\n",
    "Y = df['sentiment']\n",
    "X_train, X_test, y_train, y_test = train_test_split(X, Y, test_size=0.2, random_state=42)\n",
    "\n",
    "train_dataset = FinancialSentimentDataset(X_train.tolist(), y_train.tolist(), tokenizer)\n",
    "test_dataset = FinancialSentimentDataset(X_test.tolist(), y_test.tolist(), tokenizer)"
   ]
  },
  {
   "cell_type": "code",
   "execution_count": null,
   "metadata": {},
   "outputs": [],
   "source": [
    "# Load or train the model\n",
    "model_path = './7_BERT/Results/1'\n",
    "if os.path.exists(model_path):\n",
    "    model = BertForSequenceClassification.from_pretrained(model_path)\n",
    "else:\n",
    "    model = BertForSequenceClassification.from_pretrained('bert-base-uncased', num_labels=3)\n",
    "    training_args = TrainingArguments(\n",
    "        output_dir=model_path,\n",
    "        num_train_epochs=3,\n",
    "        per_device_train_batch_size=8,\n",
    "        per_device_eval_batch_size=16,\n",
    "        warmup_steps=500,\n",
    "        weight_decay=0.01,\n",
    "        logging_dir='./logs',\n",
    "        logging_steps=10,\n",
    "    )\n",
    "\n",
    "    trainer = Trainer(\n",
    "        model=model,\n",
    "        args=training_args,\n",
    "        train_dataset=train_dataset,\n",
    "        eval_dataset=test_dataset\n",
    "    )\n",
    "    trainer.train()"
   ]
  },
  {
   "cell_type": "code",
   "execution_count": null,
   "metadata": {},
   "outputs": [],
   "source": [
    "# Evaluate the model\n",
    "trainer = Trainer(model=model)\n",
    "results = trainer.evaluate(test_dataset)\n",
    "print(results)"
   ]
  },
  {
   "cell_type": "code",
   "execution_count": null,
   "metadata": {},
   "outputs": [],
   "source": [
    "# Plot the results\n",
    "sns.set(style='whitegrid')\n",
    "plt.figure(figsize=(10, 5))\n",
    "plt.title('Model Accuracy and Loss')\n",
    "plt.plot([x['epoch'] for x in trainer.state.log_history], [x['loss'] for x in trainer.state.log_history], label='Loss')\n",
    "plt.xlabel('Epoch')\n",
    "plt.ylabel('Value')\n",
    "plt.legend()\n",
    "plt.show()"
   ]
  }
 ],
 "metadata": {
  "kernelspec": {
   "display_name": "base",
   "language": "python",
   "name": "python3"
  },
  "language_info": {
   "codemirror_mode": {
    "name": "ipython",
    "version": 3
   },
   "file_extension": ".py",
   "mimetype": "text/x-python",
   "name": "python",
   "nbconvert_exporter": "python",
   "pygments_lexer": "ipython3",
   "version": "3.11.5"
  }
 },
 "nbformat": 4,
 "nbformat_minor": 2
}
