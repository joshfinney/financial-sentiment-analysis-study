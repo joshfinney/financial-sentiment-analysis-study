{
 "cells": [
  {
   "cell_type": "code",
   "execution_count": 2,
   "metadata": {},
   "outputs": [
    {
     "name": "stderr",
     "output_type": "stream",
     "text": [
      "/Users/josh/Desktop/Coding 👨🏽‍💻/sentiment_analysis/venv/lib/python3.11/site-packages/tqdm/auto.py:21: TqdmWarning: IProgress not found. Please update jupyter and ipywidgets. See https://ipywidgets.readthedocs.io/en/stable/user_install.html\n",
      "  from .autonotebook import tqdm as notebook_tqdm\n"
     ]
    }
   ],
   "source": [
    "from transformers import AutoTokenizer, AutoModelForSequenceClassification\n",
    "import torch\n",
    "import scipy.special\n",
    "import pandas as pd\n",
    "import seaborn as sns\n",
    "import numpy as np\n",
    "import matplotlib.pyplot as plt\n",
    "from transformers import BertTokenizer, TFBertForSequenceClassification\n",
    "from transformers import pipeline\n",
    "import pandas as pd\n",
    "import numpy as np\n",
    "import seaborn as sns\n",
    "import matplotlib.pyplot as plt\n",
    "from sklearn.metrics import classification_report, confusion_matrix\n",
    "\n",
    "# Printing confusion matrix\n",
    "def plot_conf_mat(cm):\n",
    "    class_names=['-1', '0', '1'] # name  of classes\n",
    "    fig, ax = plt.subplots()\n",
    "    tick_marks = np.arange(len(class_names))\n",
    "    # centre the x ticks\n",
    "    ax.set_xticks(np.arange(len(class_names)+1)-.5, minor=True)\n",
    "    ax.set_yticks(np.arange(len(class_names)+1)-.5, minor=True)\n",
    "    # create heatmap\n",
    "    sns.heatmap(pd.DataFrame(cm), annot=True, cmap=\"YlGnBu\" ,fmt='g')\n",
    "    ax.xaxis.set_label_position(\"bottom\")\n",
    "    plt.tight_layout()\n",
    "    plt.title('Confusion matrix', y=1.1)\n",
    "    plt.ylabel('Actual label')\n",
    "    plt.xlabel('Predicted label')"
   ]
  },
  {
   "cell_type": "code",
   "execution_count": 10,
   "metadata": {},
   "outputs": [],
   "source": [
    "# Load dataset\n",
    "df = pd.read_feather(\"../Data/Data1_NoClean.feather\")\n",
    "\n",
    "# Map numerical sentiment values to categorical labels\n",
    "sentiment_mapping = {-1: 'negative', 0: 'neutral', 1: 'positive'}\n",
    "df['sentiment'] = df['sentiment'].map(sentiment_mapping)\n",
    "\n",
    "# Combine text, company names, and base URLs for processing\n",
    "X = df[['text', 'base_url', 'company_names']]\n",
    "X_combined = X['text'] + ' <EOF> ' + X['base_url'] + ' <EOF> ' + X['company_names']"
   ]
  },
  {
   "cell_type": "code",
   "execution_count": 5,
   "metadata": {},
   "outputs": [],
   "source": [
    "# Load tokenizer and model from Hugging Face\n",
    "tokenizer = AutoTokenizer.from_pretrained(\"ProsusAI/finbert\")\n",
    "model = AutoModelForSequenceClassification.from_pretrained(\"ProsusAI/finbert\")"
   ]
  },
  {
   "cell_type": "code",
   "execution_count": null,
   "metadata": {},
   "outputs": [],
   "source": [
    "# List to store predicted sentiment scores\n",
    "scores = []\n",
    "\n",
    "# Process the combined text for sentiment analysis\n",
    "for i, text in enumerate(X_combined):\n",
    "    # Tokenize the text and convert to PyTorch tensors\n",
    "    inputs = tokenizer(text, max_length=512, truncation=True, return_tensors=\"pt\")\n",
    "    with torch.no_grad():\n",
    "        # Get model logits\n",
    "        logits = model(**inputs).logits\n",
    "        # Convert logits to probabilities using softmax\n",
    "        probability_scores = scipy.special.softmax(logits.numpy().squeeze())\n",
    "        # Create a dictionary of label to probability mappings\n",
    "        score = {k: v for k, v in zip(model.config.id2label.values(), probability_scores)}\n",
    "        scores.append(score)\n",
    "    \n",
    "    # Calculate progress percentage and print\n",
    "    progress = 100 * (i + 1) / len(X_combined)\n",
    "    print(f\"Progress: {progress:.2f}% - Item {i} - Predicted Probabilities: {score} - '{text}'\")"
   ]
  },
  {
   "cell_type": "code",
   "execution_count": 7,
   "metadata": {},
   "outputs": [],
   "source": [
    "# Create a new DataFrame from the scores\n",
    "df_scores = pd.concat([df, pd.DataFrame(scores)], axis=1)\n",
    "\n",
    "# Save the DataFrame to a new feather file\n",
    "df_scores.to_feather(\"../Data/Data145_NoClean_OpenLLMPredicted_Probabilities.feather\")"
   ]
  },
  {
   "cell_type": "code",
   "execution_count": 11,
   "metadata": {},
   "outputs": [],
   "source": [
    "df_scores = pd.read_feather(\"../Data/Data1_NoClean_OpenLLMPredicted_2_Probabilities.feather\")"
   ]
  },
  {
   "cell_type": "code",
   "execution_count": 12,
   "metadata": {},
   "outputs": [],
   "source": [
    "# calculate accuracy\n",
    "predicted_sentiments = df_scores[['negative', 'neutral', 'positive']].idxmax(axis=1)\n",
    "accuracy = np.mean(df['sentiment'] == predicted_sentiments)"
   ]
  },
  {
   "cell_type": "code",
   "execution_count": 13,
   "metadata": {},
   "outputs": [
    {
     "name": "stdout",
     "output_type": "stream",
     "text": [
      "Accuracy: 0.5825415399017084\n",
      "\n",
      "Classification Report:\n",
      "               precision    recall  f1-score   support\n",
      "\n",
      "    negative       0.35      0.38      0.36      2033\n",
      "     neutral       0.64      0.82      0.72     13025\n",
      "    positive       0.42      0.16      0.24      6307\n",
      "\n",
      "    accuracy                           0.58     21365\n",
      "   macro avg       0.47      0.45      0.44     21365\n",
      "weighted avg       0.55      0.58      0.54     21365\n",
      "\n",
      "\n",
      "Confusion Matrix:\n",
      " [[  768  1186    79]\n",
      " [ 1011 10640  1374]\n",
      " [  429  4840  1038]]\n"
     ]
    },
    {
     "data": {
      "image/png": "[encoded data removed]",
      "text/plain": [
       "<Figure size 640x480 with 2 Axes>"
      ]
     },
     "metadata": {},
     "output_type": "display_data"
    }
   ],
   "source": [
    "print(f\"Accuracy: {accuracy}\")\n",
    "\n",
    "# Generate and print a classification report\n",
    "print(\"\\nClassification Report:\\n\", classification_report(df['sentiment'], predicted_sentiments))\n",
    "\n",
    "# Generate a confusion matrix\n",
    "confusion_mat = confusion_matrix(df['sentiment'], predicted_sentiments)\n",
    "\n",
    "# Print the confusion matrix\n",
    "print(\"\\nConfusion Matrix:\\n\", confusion_mat)\n",
    "\n",
    "# Plotting the confusion matrix\n",
    "plot_conf_mat(confusion_mat)"
   ]
  }
 ],
 "metadata": {
  "kernelspec": {
   "display_name": "base",
   "language": "python",
   "name": "python3"
  },
  "language_info": {
   "codemirror_mode": {
    "name": "ipython",
    "version": 3
   },
   "file_extension": ".py",
   "mimetype": "text/x-python",
   "name": "python",
   "nbconvert_exporter": "python",
   "pygments_lexer": "ipython3",
   "version": "3.11.5"
  }
 },
 "nbformat": 4,
 "nbformat_minor": 2
}
